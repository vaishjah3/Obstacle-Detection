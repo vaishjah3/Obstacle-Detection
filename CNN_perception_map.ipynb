{
  "nbformat": 4,
  "nbformat_minor": 0,
  "metadata": {
    "colab": {
      "provenance": [],
      "authorship_tag": "ABX9TyOBb1UV6MY9qGZfq33mxPfz",
      "include_colab_link": true
    },
    "kernelspec": {
      "name": "python3",
      "display_name": "Python 3"
    },
    "language_info": {
      "name": "python"
    }
  },
  "cells": [
    {
      "cell_type": "markdown",
      "metadata": {
        "id": "view-in-github",
        "colab_type": "text"
      },
      "source": [
        "<a href=\"https://colab.research.google.com/github/vaishjah3/Assignments/blob/main/CNN_perception_map.ipynb\" target=\"_parent\"><img src=\"https://colab.research.google.com/assets/colab-badge.svg\" alt=\"Open In Colab\"/></a>"
      ]
    },
    {
      "cell_type": "code",
      "execution_count": null,
      "metadata": {
        "id": "oYiSp9Zp7Esn"
      },
      "outputs": [],
      "source": [
        "import numpy as np\n",
        "import tensorflow as tf\n",
        "from tensorflow.keras.models import *\n",
        "from tensorflow.keras.layers import *\n",
        "from tensorflow.keras.optimizers import Adam\n",
        "\n",
        "# Sample data generation function\n",
        "def generate_sample_data(image_size=(100, 100), obstacle_size=(20, 20), num_samples=1000):\n",
        "    samples = []\n",
        "    for _ in range(num_samples):\n",
        "        obstacle_x = np.random.randint(0, image_size[0] - obstacle_size[0])\n",
        "        obstacle_y = np.random.randint(0, image_size[1] - obstacle_size[1])\n",
        "        image = np.zeros(image_size)\n",
        "        image[obstacle_x:obstacle_x+obstacle_size[0], obstacle_y:obstacle_y+obstacle_size[1]] = 1\n",
        "        samples.append((image, (obstacle_x, obstacle_y)))\n",
        "    return samples\n",
        "\n",
        "# Generate sample data\n",
        "image_size = (100, 100)\n",
        "obstacle_size = (20, 20)\n",
        "num_samples = 1000\n",
        "data = generate_sample_data(image_size, obstacle_size, num_samples)\n",
        "\n",
        "# Split data into train and validation sets\n",
        "train_data = data[:800]\n",
        "val_data = data[800:]\n",
        "\n",
        "# Preprocess data\n",
        "def preprocess_data(samples):\n",
        "    X = np.array([sample[0] for sample in samples])\n",
        "    y = np.array([sample[1] for sample in samples])\n",
        "    X = X.reshape(-1, image_size[0], image_size[1], 1)  # Reshape for Conv2D\n",
        "    y = y   # Normalize coordinates\n",
        "    return X, y\n",
        "\n",
        "X_train, y_train = preprocess_data(train_data)\n",
        "X_val, y_val = preprocess_data(val_data)\n",
        "\n",
        "# Define model\n",
        "model = tf.keras.Sequential([\n",
        "    layers.Conv2D(32, (3, 3), activation='relu', input_shape=(image_size[0], image_size[1], 1)),\n",
        "    layers.MaxPooling2D((2, 2)),\n",
        "    layers.Conv2D(64, (3, 3), activation='relu'),\n",
        "    layers.MaxPooling2D((2, 2)),\n",
        "    layers.Conv2D(64, (3, 3), activation='relu'),\n",
        "    layers.Flatten(),\n",
        "    layers.Dense(64, activation='relu'),\n",
        "    layers.Dense(2,name=\"my_dense_layer\")  # 2 for x, y coordinates\n",
        "])\n",
        "\n",
        "# Compile model\n",
        "model.compile(optimizer='adam', loss='mse')\n",
        "\n",
        "# Train model\n",
        "model.fit(X_train, y_train, epochs=10, batch_size=32, validation_data=(X_val, y_val))\n",
        "\n",
        "\n"
      ]
    },
    {
      "cell_type": "code",
      "source": [
        "X_train[0], y_train[0]"
      ],
      "metadata": {
        "colab": {
          "base_uri": "https://localhost:8080/"
        },
        "id": "TSpETEg2gQ0S",
        "outputId": "c52e2866-9068-4b88-8c41-2bdd1b7c37ba"
      },
      "execution_count": null,
      "outputs": [
        {
          "output_type": "execute_result",
          "data": {
            "text/plain": [
              "(array([[[0.],\n",
              "         [0.],\n",
              "         [0.],\n",
              "         ...,\n",
              "         [0.],\n",
              "         [0.],\n",
              "         [0.]],\n",
              " \n",
              "        [[0.],\n",
              "         [0.],\n",
              "         [0.],\n",
              "         ...,\n",
              "         [0.],\n",
              "         [0.],\n",
              "         [0.]],\n",
              " \n",
              "        [[0.],\n",
              "         [0.],\n",
              "         [0.],\n",
              "         ...,\n",
              "         [0.],\n",
              "         [0.],\n",
              "         [0.]],\n",
              " \n",
              "        ...,\n",
              " \n",
              "        [[0.],\n",
              "         [0.],\n",
              "         [0.],\n",
              "         ...,\n",
              "         [0.],\n",
              "         [0.],\n",
              "         [0.]],\n",
              " \n",
              "        [[0.],\n",
              "         [0.],\n",
              "         [0.],\n",
              "         ...,\n",
              "         [0.],\n",
              "         [0.],\n",
              "         [0.]],\n",
              " \n",
              "        [[0.],\n",
              "         [0.],\n",
              "         [0.],\n",
              "         ...,\n",
              "         [0.],\n",
              "         [0.],\n",
              "         [0.]]]),\n",
              " array([ 8, 70]))"
            ]
          },
          "metadata": {},
          "execution_count": 68
        }
      ]
    },
    {
      "cell_type": "code",
      "source": [
        "model.input"
      ],
      "metadata": {
        "colab": {
          "base_uri": "https://localhost:8080/"
        },
        "id": "6W5v9EHwQxQP",
        "outputId": "37e31e03-139b-46f2-d687-9ffa528c23e4"
      },
      "execution_count": null,
      "outputs": [
        {
          "output_type": "execute_result",
          "data": {
            "text/plain": [
              "<KerasTensor: shape=(None, 100, 100, 1) dtype=float32 (created by layer 'conv2d_9_input')>"
            ]
          },
          "metadata": {},
          "execution_count": 54
        }
      ]
    },
    {
      "cell_type": "code",
      "source": [
        "import tensorflow as tf\n",
        "\n",
        "# Define the shape of the tensor\n",
        "shape = (1, 100, 100, 1)\n",
        "\n",
        "# Create a tensor filled with zeros\n",
        "tensor = tf.zeros(shape, dtype=tf.float32)\n",
        "\n",
        "# If you want to initialize it with random values instead:\n",
        "#tensor = tf.random.normal(shape, dtype=tf.float32)\n",
        "\n",
        "# Print the tensor shape and dtype\n",
        "print(\"Tensor shape:\", tensor.shape)\n",
        "print(\"Tensor dtype:\", tensor.dtype)"
      ],
      "metadata": {
        "colab": {
          "base_uri": "https://localhost:8080/"
        },
        "id": "QAUovoGCQc85",
        "outputId": "e93b89cd-f5ee-44d4-f24b-8e37e384bfdd"
      },
      "execution_count": null,
      "outputs": [
        {
          "output_type": "stream",
          "name": "stdout",
          "text": [
            "Tensor shape: (1, 100, 100, 1)\n",
            "Tensor dtype: <dtype: 'float32'>\n"
          ]
        }
      ]
    },
    {
      "cell_type": "code",
      "source": [
        "tensor"
      ],
      "metadata": {
        "id": "adfWehfeWdJg"
      },
      "execution_count": null,
      "outputs": []
    },
    {
      "cell_type": "code",
      "source": [
        "image=X_train[0]"
      ],
      "metadata": {
        "id": "9_m32shah986"
      },
      "execution_count": null,
      "outputs": []
    },
    {
      "cell_type": "code",
      "source": [
        "image = image.reshape(1, 100, 100, 1)"
      ],
      "metadata": {
        "id": "J0g5MGQUh7VY"
      },
      "execution_count": null,
      "outputs": []
    },
    {
      "cell_type": "code",
      "source": [
        "model.predict(image)"
      ],
      "metadata": {
        "colab": {
          "base_uri": "https://localhost:8080/"
        },
        "id": "xMnh5YZmiG7I",
        "outputId": "f2a49f73-e2a7-4e02-bd29-d4ed6e3e9a44"
      },
      "execution_count": null,
      "outputs": [
        {
          "output_type": "stream",
          "name": "stdout",
          "text": [
            "1/1 [==============================] - 0s 158ms/step\n"
          ]
        },
        {
          "output_type": "execute_result",
          "data": {
            "text/plain": [
              "array([[ 6.758006, 74.83145 ]], dtype=float32)"
            ]
          },
          "metadata": {},
          "execution_count": 73
        }
      ]
    }
  ]
}